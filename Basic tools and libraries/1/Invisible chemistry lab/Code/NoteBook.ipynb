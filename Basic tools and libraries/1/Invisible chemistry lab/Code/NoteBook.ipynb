{
 "cells": [
  {
   "cell_type": "markdown",
   "metadata": {},
   "source": [
    "<h1 align=center style=\"line-height:200%;font-family:vazir;color:#0099cc\">\n",
    "<font face=\"vazirmatn\" color=\"#0099cc\">\n",
    "آزمایشگاه شیمی\n",
    "</font>\n",
    "</h1>\n",
    "\n",
    "<p dir=rtl style=\"direction: rtl;text-align: justify;line-height:200%;font-family:vazir;font-size:medium\">\n",
    "<font face=\"vazirmatn\" size=3>\n",
    "در این تمرین ساده سعی می‌کنیم به کمک محاسبه هیستوگرام تصویر این تمرین را حل کنیم. طول و عرض لوله ها به ما داده شده است و از ما میانگین درصد پر بودن لوله ها را خواسته اند. که خب ایده ساده برای حل، این است که مجموع پیکسل های ابی که تصویر اشغال میکند را حساب کرده و بر مجموع پیکسل های لوله ها تقسیم کنیم.\n",
    "</font>\n",
    "</p>"
   ]
  },
  {
   "cell_type": "markdown",
   "metadata": {},
   "source": [
    "<h3 dir=rtl align=right style=\"line-height:200%;font-family:vazir;color:#0099cc\">\n",
    "<font face=\"vazirmatn\" color=\"#0099cc\">\n",
    "اضافه کردن کتابخانه های مورد نیاز\n",
    "</font>\n",
    "</h3>\n",
    "\n",
    "<p dir=rtl style=\"direction: rtl;text-align: justify;line-height:200%;font-family:vazir;font-size:medium\">\n",
    "<font face=\"vazirmatn\" size=3>\n",
    "با اجرای سلول زیر تمام کتابخانه هایی که در طول این تمرین نیاز خواهد شد، import میشوند.\n",
    "</font>\n",
    "</p>"
   ]
  },
  {
   "cell_type": "code",
   "execution_count": 1,
   "metadata": {},
   "outputs": [],
   "source": [
    "import numpy as np\n",
    "import cv2\n",
    "import matplotlib.pyplot as plt"
   ]
  },
  {
   "cell_type": "markdown",
   "metadata": {},
   "source": [
    "<h3 dir=rtl align=right style=\"line-height:200%;font-family:vazir;color:#0099cc\">\n",
    "<font face=\"vazirmatn\" color=\"#0099cc\">\n",
    "بارگذاری تصویر \n",
    "</font>\n",
    "</h3>\n",
    "\n",
    "<p dir=rtl style=\"direction: rtl;text-align: justify;line-height:200%;font-family:vazir;font-size:medium\">\n",
    "<font face=\"vazirmatn\" size=3>\n",
    "با استفاده از <code>OpenCV</code> فایل <code>1.jpg</code> را بخوانید و سپس به کمک <code>matplotlib</code> آن را نمایش دهید.\n",
    "</font>\n",
    "</p>"
   ]
  },
  {
   "cell_type": "code",
   "execution_count": 2,
   "metadata": {},
   "outputs": [
    {
     "data": {
      "text/plain": [
       "<matplotlib.image.AxesImage at 0x1b224338460>"
      ]
     },
     "execution_count": 2,
     "metadata": {},
     "output_type": "execute_result"
    },
    {
     "data": {
      "image/png": "[encoded data removed]",
      "text/plain": [
       "<Figure size 640x480 with 1 Axes>"
      ]
     },
     "metadata": {},
     "output_type": "display_data"
    }
   ],
   "source": [
    "# Read the image\n",
    "image = cv2.imread('../Data/1.jpg')\n",
    "\n",
    "image_rgb = cv2.cvtColor(image, cv2.COLOR_BGR2RGB)\n",
    "\n",
    "# Show the image using matplotlib\n",
    "plt.imshow(image_rgb)"
   ]
  },
  {
   "cell_type": "markdown",
   "metadata": {},
   "source": [
    "<p dir=rtl style=\"direction: rtl;text-align: justify;line-height:200%;font-family:vazir;font-size:medium\">\n",
    "<font face=\"vazirmatn\" size=3>\n",
    "در سلول زیر، عرض و ارتفاع تصویر را در دو خط مجزا چاپ کنید.\n",
    "</font>\n",
    "</p>"
   ]
  },
  {
   "cell_type": "code",
   "execution_count": 3,
   "metadata": {},
   "outputs": [
    {
     "name": "stdout",
     "output_type": "stream",
     "text": [
      "300\n",
      "400\n"
     ]
    }
   ],
   "source": [
    "# Print height and width in two lines\n",
    "height = print(image_rgb.shape[0])\n",
    "width = print(image_rgb.shape[1])"
   ]
  },
  {
   "cell_type": "markdown",
   "metadata": {},
   "source": [
    "<p dir=rtl style=\"direction: rtl;text-align: justify;line-height:200%;font-family:vazir;font-size:medium\">\n",
    "<font face=\"vazirmatn\" size=3>\n",
    "برای اینکه مجموع پیکسل های شدت آبی را محاسبه کنیم راه حل بهینه تبدیل به فرمت <code>HSV</code> و سر و کله زدن با کانال H است. همانطور که در درسنامه های قبل گفته شد، مولفه یا کانال H رنگ اصلی را مشخص میکند. در سلول زیر تصویر را به کانال <code>HSV</code> تبدیل کنید.\n",
    "</font>\n",
    "</p>"
   ]
  },
  {
   "cell_type": "code",
   "execution_count": 4,
   "metadata": {},
   "outputs": [],
   "source": [
    "# Convert to HSV\n",
    "hsv = cv2.cvtColor(image_rgb, cv2.COLOR_RGB2HSV)"
   ]
  },
  {
   "cell_type": "code",
   "execution_count": 5,
   "metadata": {},
   "outputs": [],
   "source": [
    "# تنظیم دقیق محدوده رنگ آبی در HSV\n",
    "lower_blue = np.array([90, 100, 50])  \n",
    "upper_blue = np.array([140, 255, 255])\n",
    "\n",
    "# در این تکه بازه ممکن رنگ آبی مشخص شد"
   ]
  },
  {
   "cell_type": "markdown",
   "metadata": {},
   "source": [
    "<p dir=rtl style=\"direction: rtl;text-align: justify;line-height:200%;font-family:vazir;font-size:medium\">\n",
    "<font face=\"vazirmatn\" size=3>\n",
    "در سلول زیر، لطفا یک ماسک تشکیل داده و تمام پیکسل هایی که در بازه مجاز تعریف شده قسمت قبل قرار دارند را شناسایی و در متغیر <code>mask</code> ذخیره کنید.\n",
    "</font>\n",
    "</p>"
   ]
  },
  {
   "cell_type": "code",
   "execution_count": 6,
   "metadata": {},
   "outputs": [],
   "source": [
    "mask = cv2.inRange(hsv, lower_blue, upper_blue)"
   ]
  },
  {
   "cell_type": "code",
   "execution_count": 7,
   "metadata": {},
   "outputs": [
    {
     "data": {
      "text/plain": [
       "<matplotlib.image.AxesImage at 0x1b227560f40>"
      ]
     },
     "execution_count": 7,
     "metadata": {},
     "output_type": "execute_result"
    },
    {
     "data": {
      "image/png": "[encoded data removed]",
      "text/plain": [
       "<Figure size 640x480 with 1 Axes>"
      ]
     },
     "metadata": {},
     "output_type": "display_data"
    }
   ],
   "source": [
    "plt.imshow(mask, cmap='gray')"
   ]
  },
  {
   "cell_type": "markdown",
   "metadata": {},
   "source": [
    "<p dir=rtl style=\"direction: rtl;text-align: justify;line-height:200%;font-family:vazir;font-size:medium\">\n",
    "<font face=\"vazirmatn\" size=3>\n",
    "حال به کمک <code>numpy</code> تمام پیکسل های غیر صفر ماسک را بشمارید. با اجرای سلول پایین به اولین هدف که شمارش تمام پیکسل های دارای شدت روشنایی آبی بود خواهیم رسید.\n",
    "</font>\n",
    "</p>"
   ]
  },
  {
   "cell_type": "code",
   "execution_count": 8,
   "metadata": {},
   "outputs": [
    {
     "name": "stdout",
     "output_type": "stream",
     "text": [
      "15536\n"
     ]
    }
   ],
   "source": [
    "blue_pixels = cv2.countNonZero(mask)\n",
    "print(blue_pixels)"
   ]
  },
  {
   "cell_type": "markdown",
   "metadata": {},
   "source": [
    "<p dir=rtl style=\"direction: rtl;text-align: justify;line-height:200%;font-family:vazir;font-size:medium\">\n",
    "<font face=\"vazirmatn\" size=3>\n",
    "حال می بایست مجموع پیکسل های اشغال شده توسط لوله ها را بشماریم. 3 لوله داریم در ابعاد 60 * 200. مجموع پیکسل های درون لوله را محاسبه کنید.\n",
    "</font>\n",
    "</p>"
   ]
  },
  {
   "cell_type": "code",
   "execution_count": 9,
   "metadata": {},
   "outputs": [],
   "source": [
    "total_tube_area = 200 * 60 * 3"
   ]
  },
  {
   "cell_type": "code",
   "execution_count": 10,
   "metadata": {},
   "outputs": [],
   "source": [
    "average_filled_percentage = (blue_pixels/total_tube_area) * 100"
   ]
  },
  {
   "cell_type": "code",
   "execution_count": 11,
   "metadata": {},
   "outputs": [
    {
     "name": "stdout",
     "output_type": "stream",
     "text": [
      "43\n"
     ]
    }
   ],
   "source": [
    "print (int(average_filled_percentage))"
   ]
  },
  {
   "cell_type": "markdown",
   "metadata": {},
   "source": [
    "<h3 dir=rtl align=right style=\"line-height:200%;font-family:vazir;color:#0099cc\">\n",
    "<font face=\"vazirmatn\" color=\"#0099cc\">\n",
    "نوشتن تابع محاسبه گر\n",
    "</font>\n",
    "</h3>\n",
    "\n",
    "<p dir=rtl style=\"direction: rtl;text-align: justify;line-height:200%;font-family:vazir;font-size:medium\">\n",
    "<font face=\"vazirmatn\" size=3>\n",
    "تمام عملیات مورد نیاز جهت محاسبه میانگین درصد پر بودن لوله ها را در تابع زیر بنویسید. دقت کنید که این تابع باید تصویری را به عنوان ورودی گرفته و خروجی آن باید عدد صحیح <code>int</code> مجموع درصد باشد. \n",
    "</font>\n",
    "</p>"
   ]
  },
  {
   "cell_type": "code",
   "execution_count": 12,
   "metadata": {},
   "outputs": [],
   "source": [
    "def calculation(image):\n",
    "    img_hsv = cv2.cvtColor(image, cv2.COLOR_BGR2HSV)\n",
    "\n",
    "    lower_blue = np.array([90, 100, 50])\n",
    "    upper_blue = np.array([140, 255, 255])\n",
    "\n",
    "    mask = cv2.inRange(img_hsv, lower_blue, upper_blue)\n",
    "\n",
    "    blue_pix = cv2.countNonZero(mask)\n",
    "\n",
    "    tube_height = 200\n",
    "    tube_width = 60\n",
    "    num_tubes = 3\n",
    "    total_tube_area = num_tubes * tube_height * tube_width\n",
    "\n",
    "   \n",
    "    average_filled_percentage = (blue_pix / total_tube_area) * 100\n",
    "\n",
    "    return int(average_filled_percentage)"
   ]
  },
  {
   "cell_type": "code",
   "execution_count": 13,
   "metadata": {},
   "outputs": [
    {
     "name": "stdout",
     "output_type": "stream",
     "text": [
      "43\n"
     ]
    }
   ],
   "source": [
    "# Test the function\n",
    "print(calculation(image))"
   ]
  },
  {
   "cell_type": "markdown",
   "metadata": {},
   "source": [
    "<h2 align=right style=\"line-height:200%;font-family:vazir;color:#0099cc\">\n",
    "<font face=\"vazirmatn\" color=\"#0099cc\">\n",
    "<b>سلول جواب‌ساز</b>\n",
    "</font>\n",
    "</h2>\n",
    "\n",
    "\n",
    "<p dir=rtl style=\"direction: rtl; text-align: justify; line-height:200%; font-family:vazir; font-size:medium\">\n",
    "<font face=\"vazirmatn\" size=3>\n",
    "    برای ساخته‌شدن فایل <code>result.zip</code> سلول زیر را اجرا کنید. توجه داشته باشید که پیش از اجرای سلول زیر تغییرات اعمال شده در نت‌بوک را ذخیره کرده باشید (<code>ctrl+s</code>) تا در صورت نیاز به پشتیبانی امکان بررسی کد شما وجود داشته باشد. دقت کنید نام تابع حتما <code>calculation</code>  باشد و لطفا فایل <code>result.zip</code> را در نهایت در سایت بارگذاری کنید.\n",
    "\n",
    "</font>\n",
    "</p>"
   ]
  },
  {
   "cell_type": "code",
   "execution_count": 14,
   "metadata": {},
   "outputs": [
    {
     "name": "stdin",
     "output_type": "stream",
     "text": [
      "File `calculation.py` exists. Overwrite (y/[N])?   Y\n"
     ]
    },
    {
     "name": "stdout",
     "output_type": "stream",
     "text": [
      "The following commands were written to file `calculation.py`:\n",
      "\n",
      "import cv2\n",
      "import numpy as np\n",
      "def calculation(image):\n",
      "    img_hsv = cv2.cvtColor(image, cv2.COLOR_BGR2HSV)\n",
      "\n",
      "    lower_blue = np.array([90, 100, 50])\n",
      "    upper_blue = np.array([140, 255, 255])\n",
      "\n",
      "    mask = cv2.inRange(img_hsv, lower_blue, upper_blue)\n",
      "\n",
      "    blue_pix = cv2.countNonZero(mask)\n",
      "\n",
      "    tube_height = 200\n",
      "    tube_width = 60\n",
      "    num_tubes = 3\n",
      "    total_tube_area = num_tubes * tube_height * tube_width\n",
      "\n",
      "   \n",
      "    average_filled_percentage = (blue_pix / total_tube_area) * 100\n",
      "\n",
      "    return int(average_filled_percentage)\n",
      "\n",
      "File Paths:\n",
      "['calculation.py', 'NoteBook.ipynb']\n"
     ]
    }
   ],
   "source": [
    "import zipfile\n",
    "from inspect import getsource\n",
    "\n",
    "\n",
    "def compress(file_names):\n",
    "    print(\"File Paths:\")\n",
    "    print(file_names)\n",
    "    compression = zipfile.ZIP_DEFLATED\n",
    "    with zipfile.ZipFile(\"result.zip\", mode=\"w\") as zf:\n",
    "        for file_name in file_names:\n",
    "            zf.write('./' + file_name, file_name, compress_type=compression)\n",
    "\n",
    "imp = \"\"\"\n",
    "import cv2\n",
    "import numpy as np\n",
    "\"\"\"\n",
    "\n",
    "%save calculation imp + getsource(calculation)\n",
    "\n",
    "\n",
    "file_names = [\"calculation.py\", \"NoteBook.ipynb\"]\n",
    "compress(file_names)"
   ]
  },
  {
   "cell_type": "code",
   "execution_count": null,
   "metadata": {},
   "outputs": [],
   "source": []
  }
 ],
 "metadata": {
  "kernelspec": {
   "display_name": "Python 3 (ipykernel)",
   "language": "python",
   "name": "python3"
  },
  "language_info": {
   "codemirror_mode": {
    "name": "ipython",
    "version": 3
   },
   "file_extension": ".py",
   "mimetype": "text/x-python",
   "name": "python",
   "nbconvert_exporter": "python",
   "pygments_lexer": "ipython3",
   "version": "3.10.0"
  }
 },
 "nbformat": 4,
 "nbformat_minor": 4
}
